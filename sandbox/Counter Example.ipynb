{
 "cells": [
  {
   "cell_type": "code",
   "execution_count": 3,
   "metadata": {
    "collapsed": true
   },
   "outputs": [
    {
     "name": "stdout",
     "output_type": "stream",
     "text": [
      "['My', 'name', 'is', 'Wael', 'Hamza.', 'I', 'have', 'two', 'sons', 'and', 'a', 'daughter.', 'Moaz', 'Hamza', 'is', 'my', 'oldest', 'son.', 'Mohamed', 'Hamza', 'is', 'my', 'middle', 'kid.', 'They', 'both', 'go', 'to', 'Binghamton', 'studying', 'Computer', 'Sciene.', 'My', 'youngest', 'is', 'Mena', 'Hamza', 'and', 'she', 'is', 'still', 'in', 'high', 'school.']\n44\n"
     ]
    }
   ],
   "source": [
    "s = '''\n",
    "My name is Wael Hamza. I have two sons and a daughter. Moaz Hamza is my oldest son. Mohamed Hamza \n",
    "is my middle kid. They both go to Binghamton studying Computer Sciene. My youngest is Mena Hamza\n",
    "and she is still in high school.\n",
    "'''\n",
    "words = s.split()\n",
    "print words\n",
    "print len(words)"
   ]
  },
  {
   "cell_type": "code",
   "execution_count": 6,
   "metadata": {},
   "outputs": [
    {
     "name": "stdout",
     "output_type": "stream",
     "text": [
      "['and', 'school.', 'is', 'son.', 'high', 'middle', 'Sciene.', 'Moaz', 'have', 'in', 'go', 'oldest', 'Mena', 'still', 'My', 'two', 'to', 'Wael', 'Binghamton', 'They', 'kid.', 'I', 'daughter.', 'youngest', 'sons', 'Hamza', 'a', 'both', 'Hamza.', 'name', 'Computer', 'she', 'studying', 'my', 'Mohamed']\n35\n[('is', 5), ('Hamza', 3), ('and', 2), ('My', 2), ('my', 2), ('school.', 1), ('son.', 1), ('high', 1), ('middle', 1), ('Sciene.', 1), ('Moaz', 1), ('have', 1), ('in', 1), ('go', 1), ('oldest', 1), ('Mena', 1), ('still', 1), ('two', 1), ('to', 1), ('Wael', 1), ('Binghamton', 1), ('They', 1), ('kid.', 1), ('I', 1), ('daughter.', 1), ('youngest', 1), ('sons', 1), ('a', 1), ('both', 1), ('Hamza.', 1), ('name', 1), ('Computer', 1), ('she', 1), ('studying', 1), ('Mohamed', 1)]\n"
     ]
    }
   ],
   "source": [
    "from collections import Counter\n",
    "c = Counter(words)\n",
    "print c.keys()\n",
    "print len(c.keys())\n",
    "print sorted(c.items(), key=lambda x: x[1], reverse=True)"
   ]
  }
 ],
 "metadata": {
  "kernelspec": {
   "display_name": "Python 2",
   "language": "python",
   "name": "python2"
  },
  "language_info": {
   "codemirror_mode": {
    "name": "ipython",
    "version": 2.0
   },
   "file_extension": ".py",
   "mimetype": "text/x-python",
   "name": "python",
   "nbconvert_exporter": "python",
   "pygments_lexer": "ipython2",
   "version": "2.7.6"
  }
 },
 "nbformat": 4,
 "nbformat_minor": 0
}